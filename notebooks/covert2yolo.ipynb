{
 "cells": [
  {
   "cell_type": "code",
   "execution_count": 1,
   "metadata": {},
   "outputs": [
    {
     "name": "stdout",
     "output_type": "stream",
     "text": [
      "/Users/huynhanhkiet/Desktop/Object_Detection/ArTaxOr/data\n",
      "mkdir: yolo: File exists\n",
      "mkdir: yolo/train: File exists\n",
      "mkdir: yolo/test: File exists\n",
      "mkdir: yolo/valid: File exists\n"
     ]
    }
   ],
   "source": [
    "%cd ../data\n",
    "\n",
    "!mkdir yolo\n",
    "!mkdir yolo/train\n",
    "!mkdir yolo/test\n",
    "!mkdir yolo/valid"
   ]
  },
  {
   "cell_type": "code",
   "execution_count": 2,
   "metadata": {},
   "outputs": [],
   "source": [
    "import os\n",
    "import tqdm\n",
    "import shutil\n",
    "import pandas as pd\n",
    "import yaml"
   ]
  },
  {
   "cell_type": "code",
   "execution_count": 3,
   "metadata": {},
   "outputs": [],
   "source": [
    "dataset_path = '/Users/huynhanhkiet/Desktop/Object_Detection/ArTaxOr/data/yolo'"
   ]
  },
  {
   "cell_type": "code",
   "execution_count": 4,
   "metadata": {},
   "outputs": [],
   "source": [
    "def add_data_to_folder(file_type, data):\n",
    "    # Create directories for images and labels if they don’t exist\n",
    "    os.makedirs(f\"{dataset_path}/{file_type}/images\", exist_ok=True)\n",
    "    os.makedirs(f\"{dataset_path}/{file_type}/labels\", exist_ok=True)\n",
    "\n",
    "    for index, row in tqdm.tqdm(data.iterrows(), total=len(data)):\n",
    "        # Copy the image to the images folder\n",
    "        shutil.copy(row[\"img_dir\"], f\"{dataset_path}/{file_type}/images\")\n",
    "\n",
    "        # Create the text file in the labels folder\n",
    "        txt_filename = f\"{dataset_path}/{file_type}/labels/{row.img_dir.split('/')[-1][:-4]}.txt\"\n",
    "        with open(txt_filename, \"w\") as f:\n",
    "            # Write the annotations in the required format\n",
    "            f.write(f\"{row['sp_type']} {row['xc']} {row['yc']} {row['bb_width']} {row['bb_height']}\\n\")\n"
   ]
  },
  {
   "cell_type": "code",
   "execution_count": 5,
   "metadata": {},
   "outputs": [],
   "source": [
    "train = pd.read_csv('/Users/huynhanhkiet/Desktop/Object_Detection/ArTaxOr/data/train_medata.csv')\n",
    "test = pd.read_csv('/Users/huynhanhkiet/Desktop/Object_Detection/ArTaxOr/data/test_medata.csv')\n",
    "valid = pd.read_csv('/Users/huynhanhkiet/Desktop/Object_Detection/ArTaxOr/data/valid_medata.csv')\n"
   ]
  },
  {
   "cell_type": "code",
   "execution_count": 6,
   "metadata": {},
   "outputs": [
    {
     "name": "stderr",
     "output_type": "stream",
     "text": [
      "100%|██████████| 8616/8616 [00:10<00:00, 845.79it/s] \n",
      "100%|██████████| 1077/1077 [00:01<00:00, 643.00it/s]\n",
      "100%|██████████| 1077/1077 [00:01<00:00, 755.19it/s]\n"
     ]
    }
   ],
   "source": [
    "add_data_to_folder(\"train\" , train)\n",
    "add_data_to_folder(\"test\" , test)\n",
    "add_data_to_folder(\"valid\" , valid)"
   ]
  },
  {
   "cell_type": "code",
   "execution_count": 7,
   "metadata": {},
   "outputs": [],
   "source": [
    "classes_name = [\"Hymenoptera\",\"Hemiptera\",\"Lepidoptera\",\"Coleoptera\",\"Diptera\",\"Araneae\",\"Odonata\"]\n",
    "classes_num = [0,1,2,3,4,5,6]"
   ]
  },
  {
   "cell_type": "code",
   "execution_count": 8,
   "metadata": {},
   "outputs": [
    {
     "name": "stdout",
     "output_type": "stream",
     "text": [
      "names:\n",
      "- Hymenoptera\n",
      "- Hemiptera\n",
      "- Lepidoptera\n",
      "- Coleoptera\n",
      "- Diptera\n",
      "- Araneae\n",
      "- Odonata\n",
      "nc: 7\n",
      "test: ../data/test\n",
      "train: ../data/train\n",
      "val: ../data/valid\n"
     ]
    }
   ],
   "source": [
    "# create yml file\n",
    "yaml_dict = dict(\n",
    "    train = '../data/train',\n",
    "    test = '../data/test',\n",
    "    val = '../data/valid',\n",
    "    \n",
    "    nc    = len(classes_num), # number of classes\n",
    "    names = classes_name # classes\n",
    "    )\n",
    "\n",
    "with open(f'{dataset_path}/data.yaml', 'w') as outfile:\n",
    "    yaml.dump(yaml_dict, outfile, default_flow_style=False)\n",
    "\n",
    "%cat {dataset_path}/data.yaml"
   ]
  },
  {
   "cell_type": "code",
   "execution_count": null,
   "metadata": {},
   "outputs": [],
   "source": []
  }
 ],
 "metadata": {
  "kernelspec": {
   "display_name": "object_detection",
   "language": "python",
   "name": "python3"
  },
  "language_info": {
   "codemirror_mode": {
    "name": "ipython",
    "version": 3
   },
   "file_extension": ".py",
   "mimetype": "text/x-python",
   "name": "python",
   "nbconvert_exporter": "python",
   "pygments_lexer": "ipython3",
   "version": "3.10.15"
  }
 },
 "nbformat": 4,
 "nbformat_minor": 2
}
